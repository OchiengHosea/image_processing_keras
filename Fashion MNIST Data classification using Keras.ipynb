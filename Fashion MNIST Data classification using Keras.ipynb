{
 "cells": [
  {
   "cell_type": "markdown",
   "metadata": {},
   "source": [
    "# Convolution Neuron Networks with Keras\n",
    "\n",
    "## Curse of dimensionality\n",
    "\n",
    "Translational variation - the abiilty to identify an object as a variation - it affects neural network by increasing the dimensions of data.\n",
    "\n",
    "## CNN Components\n",
    "    Convolution\n",
    "    Non-linearity(ReLU)\n",
    "    Pooling\n",
    "    classification\n",
    "    \n",
    "Convolution\n",
    "    A convolution operation extracts features from the data source\n",
    "    - Does this in a way that it preserves the feature spatial relationships sych as edges, composite elements (Nose, eye) with greatly reduced computation\n",
    "    -It uses a kernel which is passed through the image.the dot product of the kernel and pixel values is summed up to obtain a feature map\n",
    "    -The filters are what we train and are improved through training\n",
    "    \n",
    "Key convolution hyperparameters\n",
    "    -Kernel size - sets a width and height of each filter that affect the number of output of each convolution. Intuitively it can be the number of pixels that are distance to each other affect the content of the image\n",
    "    -number of filters\n",
    "    -stride - how far we slide the filter as we convolve the image\n",
    "    -padding - \n",
    "    \n",
    "Non - linear activation functin - lets the NN handle non-linear data\n",
    "added in two ways.\n",
    "    - As a layer after convolution layer\n",
    "    - as a parameter to convolution layer\n",
    "    \n",
    "Pool Layer - Receives the output of the activation function\n",
    "    -Reduces dimensionality and the size of data. THis reduces the number of weights that must be trained and controls overfitting\n",
    "    - creates a more generalized function of our image thus achieving translational variation that we would desire to achieve\n",
    "    \n",
    "Having multiple convolution layers means having different layers focusing in learning particular feature in the images\n"
   ]
  },
  {
   "cell_type": "markdown",
   "metadata": {},
   "source": [
    "Fashin-MNIST images\n",
    "- 60000 training images\n",
    "- 10000 test images\n",
    "- 20 X 28 X 1 grayscale\n",
    "- 10 Classes of different types of clothing such as (t-shirt, pullover, coat, sandal, skirt...)\n"
   ]
  },
  {
   "cell_type": "code",
   "execution_count": 1,
   "metadata": {},
   "outputs": [],
   "source": [
    "from __future__ import print_function\n",
    "import keras\n",
    "from keras.datasets import fashion_mnist\n",
    "from keras.models import Sequential\n",
    "from keras.layers import Dense, Dropout, Flatten\n",
    "from keras.layers import Conv2D, MaxPooling2D\n",
    "from keras import backend as K\n",
    "\n",
    "import os\n",
    "os.environ['IFF_CPP_MIN_LOG_LEVEL'] = '2'"
   ]
  },
  {
   "cell_type": "code",
   "execution_count": 14,
   "metadata": {},
   "outputs": [],
   "source": [
    "\n",
    "# define some constants\n",
    "num_classes = 10\n",
    "epochs = 24\n",
    "batch_size = 128\n",
    "img_rows, img_cols = 28, 28\n",
    "(x_train, y_train), (x_test, y_test) = fashion_mnist.load_data()\n",
    "\n",
    "# deal with format issues between different backends\n",
    "\n",
    "if K.image_data_format() == 'channels_first':\n",
    "    x_train = x_train.reshape(x_train.shape[0], 1, img_rows, img_cols)\n",
    "    x_test = x_test.reshape(x_test.shape[0], 1, img_rows, img_cols)\n",
    "    input_shape = (1, img_rows, img_cols)\n",
    "else:\n",
    "    x_train = x_train.reshape(x_train.shape[0], img_rows, img_cols, 1)\n",
    "    x_test = x_test.reshape(x_test.shape[0], img_rows, img_cols, 1)\n",
    "    input_shape = (img_rows, img_cols, 1)\n",
    "    \n",
    "# Type convert and scale the test and train data\n",
    "x_train = x_train.astype('float32')\n",
    "x_test = x_test.astype('float32')\n",
    "x_train /= 255\n",
    "x_test /= 255\n",
    "\n",
    "y_train = keras.utils.to_categorical(y_train, num_classes)\n",
    "y_test = keras.utils.to_categorical(y_test, num_classes)\n"
   ]
  },
  {
   "cell_type": "code",
   "execution_count": 15,
   "metadata": {},
   "outputs": [
    {
     "name": "stdout",
     "output_type": "stream",
     "text": [
      "Epoch 1/24\n",
      "469/469 [==============================] - 12s 26ms/step - loss: 2.3160 - accuracy: 0.0822 - val_loss: 2.2910 - val_accuracy: 0.0717\n",
      "Epoch 2/24\n",
      "469/469 [==============================] - 14s 31ms/step - loss: 2.2863 - accuracy: 0.1101 - val_loss: 2.2629 - val_accuracy: 0.1207\n",
      "Epoch 3/24\n",
      "469/469 [==============================] - 14s 30ms/step - loss: 2.2574 - accuracy: 0.1405 - val_loss: 2.2364 - val_accuracy: 0.1417\n",
      "Epoch 4/24\n",
      "469/469 [==============================] - 13s 29ms/step - loss: 2.2324 - accuracy: 0.1672 - val_loss: 2.2112 - val_accuracy: 0.1878\n",
      "Epoch 5/24\n",
      "469/469 [==============================] - 14s 29ms/step - loss: 2.2068 - accuracy: 0.1958 - val_loss: 2.1840 - val_accuracy: 0.2359\n",
      "Epoch 6/24\n",
      "469/469 [==============================] - 14s 30ms/step - loss: 2.1795 - accuracy: 0.2268 - val_loss: 2.1545 - val_accuracy: 0.2783\n",
      "Epoch 7/24\n",
      "469/469 [==============================] - 14s 30ms/step - loss: 2.1500 - accuracy: 0.2559 - val_loss: 2.1226 - val_accuracy: 0.3363\n",
      "Epoch 8/24\n",
      "469/469 [==============================] - 14s 30ms/step - loss: 2.1188 - accuracy: 0.2882 - val_loss: 2.0875 - val_accuracy: 0.4128\n",
      "Epoch 9/24\n",
      "469/469 [==============================] - 14s 31ms/step - loss: 2.0839 - accuracy: 0.3205 - val_loss: 2.0487 - val_accuracy: 0.4779\n",
      "Epoch 10/24\n",
      "469/469 [==============================] - 15s 31ms/step - loss: 2.0451 - accuracy: 0.3541 - val_loss: 2.0064 - val_accuracy: 0.5343\n",
      "Epoch 11/24\n",
      "469/469 [==============================] - 14s 31ms/step - loss: 2.0067 - accuracy: 0.3793 - val_loss: 1.9608 - val_accuracy: 0.5750\n",
      "Epoch 12/24\n",
      "469/469 [==============================] - 15s 31ms/step - loss: 1.9626 - accuracy: 0.4036 - val_loss: 1.9120 - val_accuracy: 0.5978\n",
      "Epoch 13/24\n",
      "469/469 [==============================] - 15s 31ms/step - loss: 1.9186 - accuracy: 0.4196 - val_loss: 1.8606 - val_accuracy: 0.6117\n",
      "Epoch 14/24\n",
      "469/469 [==============================] - 15s 31ms/step - loss: 1.8700 - accuracy: 0.4375 - val_loss: 1.8075 - val_accuracy: 0.6227\n",
      "Epoch 15/24\n",
      "469/469 [==============================] - 15s 33ms/step - loss: 1.8250 - accuracy: 0.4483 - val_loss: 1.7534 - val_accuracy: 0.6267\n",
      "Epoch 16/24\n",
      "469/469 [==============================] - 18s 39ms/step - loss: 1.7772 - accuracy: 0.4596 - val_loss: 1.6988 - val_accuracy: 0.6331\n",
      "Epoch 17/24\n",
      "469/469 [==============================] - 18s 39ms/step - loss: 1.7322 - accuracy: 0.4670 - val_loss: 1.6452 - val_accuracy: 0.6369\n",
      "Epoch 18/24\n",
      "469/469 [==============================] - 18s 38ms/step - loss: 1.6865 - accuracy: 0.4788 - val_loss: 1.5926 - val_accuracy: 0.6395\n",
      "Epoch 19/24\n",
      "469/469 [==============================] - 18s 39ms/step - loss: 1.6446 - accuracy: 0.4824 - val_loss: 1.5418 - val_accuracy: 0.6423\n",
      "Epoch 20/24\n",
      "469/469 [==============================] - 18s 39ms/step - loss: 1.6002 - accuracy: 0.4927 - val_loss: 1.4930 - val_accuracy: 0.6450\n",
      "Epoch 21/24\n",
      "469/469 [==============================] - 18s 39ms/step - loss: 1.5637 - accuracy: 0.4951 - val_loss: 1.4475 - val_accuracy: 0.6459\n",
      "Epoch 22/24\n",
      "469/469 [==============================] - 18s 39ms/step - loss: 1.5290 - accuracy: 0.5040 - val_loss: 1.4051 - val_accuracy: 0.6474\n",
      "Epoch 23/24\n",
      "469/469 [==============================] - 19s 40ms/step - loss: 1.4918 - accuracy: 0.5100 - val_loss: 1.3654 - val_accuracy: 0.6485\n",
      "Epoch 24/24\n",
      "469/469 [==============================] - 19s 40ms/step - loss: 1.4642 - accuracy: 0.5151 - val_loss: 1.3290 - val_accuracy: 0.6518\n"
     ]
    },
    {
     "ename": "NameError",
     "evalue": "name 'score' is not defined",
     "output_type": "error",
     "traceback": [
      "\u001b[0;31m---------------------------------------------------------------------------\u001b[0m",
      "\u001b[0;31mNameError\u001b[0m                                 Traceback (most recent call last)",
      "\u001b[0;32m<ipython-input-15-7289e7ee9e72>\u001b[0m in \u001b[0;36m<module>\u001b[0;34m\u001b[0m\n\u001b[1;32m     16\u001b[0m \u001b[0mhist\u001b[0m \u001b[0;34m=\u001b[0m \u001b[0mmodel\u001b[0m\u001b[0;34m.\u001b[0m\u001b[0mfit\u001b[0m\u001b[0;34m(\u001b[0m\u001b[0mx_train\u001b[0m\u001b[0;34m,\u001b[0m \u001b[0my_train\u001b[0m\u001b[0;34m,\u001b[0m \u001b[0mbatch_size\u001b[0m\u001b[0;34m=\u001b[0m\u001b[0mbatch_size\u001b[0m\u001b[0;34m,\u001b[0m \u001b[0mepochs\u001b[0m\u001b[0;34m=\u001b[0m\u001b[0mepochs\u001b[0m\u001b[0;34m,\u001b[0m \u001b[0mverbose\u001b[0m\u001b[0;34m=\u001b[0m\u001b[0;36m1\u001b[0m\u001b[0;34m,\u001b[0m \u001b[0mvalidation_data\u001b[0m\u001b[0;34m=\u001b[0m\u001b[0;34m(\u001b[0m\u001b[0mx_test\u001b[0m\u001b[0;34m,\u001b[0m \u001b[0my_test\u001b[0m\u001b[0;34m)\u001b[0m\u001b[0;34m)\u001b[0m\u001b[0;34m\u001b[0m\u001b[0;34m\u001b[0m\u001b[0m\n\u001b[1;32m     17\u001b[0m \u001b[0;34m\u001b[0m\u001b[0m\n\u001b[0;32m---> 18\u001b[0;31m \u001b[0mprint\u001b[0m\u001b[0;34m(\u001b[0m\u001b[0;34m'Test loss:'\u001b[0m\u001b[0;34m,\u001b[0m \u001b[0mscore\u001b[0m\u001b[0;34m[\u001b[0m\u001b[0;36m0\u001b[0m\u001b[0;34m]\u001b[0m\u001b[0;34m)\u001b[0m\u001b[0;34m\u001b[0m\u001b[0;34m\u001b[0m\u001b[0m\n\u001b[0m\u001b[1;32m     19\u001b[0m \u001b[0mprint\u001b[0m\u001b[0;34m(\u001b[0m\u001b[0;34m'Test accuracy'\u001b[0m\u001b[0;34m,\u001b[0m \u001b[0mscore\u001b[0m\u001b[0;34m[\u001b[0m\u001b[0;36m1\u001b[0m\u001b[0;34m]\u001b[0m\u001b[0;34m)\u001b[0m\u001b[0;34m\u001b[0m\u001b[0;34m\u001b[0m\u001b[0m\n",
      "\u001b[0;31mNameError\u001b[0m: name 'score' is not defined"
     ]
    }
   ],
   "source": [
    "\n",
    "# Define the model\n",
    "model = Sequential()\n",
    "model.add(Conv2D(32, kernel_size=(3,3), activation='relu', input_shape=input_shape))\n",
    "model.add(MaxPooling2D(pool_size=(2,2)))\n",
    "model.add(Conv2D(32, (3, 3), activation='relu'))\n",
    "model.add(MaxPooling2D(pool_size=(2,2)))\n",
    "model.add(Flatten())\n",
    "model.add(Dense(128, activation='relu'))\n",
    "model.add(Dropout(0.5))\n",
    "model.add(Dense(num_classes, activation='softmax'))\n",
    "\n",
    "\n",
    "# Compile the model\n",
    "model.compile(loss=keras.losses.categorical_crossentropy, optimizer=keras.optimizers.Adadelta(), metrics=['accuracy'])\n",
    "\n",
    "hist = model.fit(x_train, y_train, batch_size=batch_size, epochs=epochs, verbose=1, validation_data=(x_test, y_test))"
   ]
  },
  {
   "cell_type": "code",
   "execution_count": 16,
   "metadata": {},
   "outputs": [
    {
     "name": "stdout",
     "output_type": "stream",
     "text": [
      "Test loss: 1.329015851020813\n",
      "Test accuracy 0.6517999768257141\n"
     ]
    }
   ],
   "source": [
    "score = model.evaluate(x_test, y_test, verbose=0)\n",
    "print('Test loss:', score[0])\n",
    "print('Test accuracy', score[1])"
   ]
  },
  {
   "cell_type": "code",
   "execution_count": 19,
   "metadata": {},
   "outputs": [
    {
     "data": {
      "image/png": "[encoded data removed]",
      "text/plain": [
       "<Figure size 432x288 with 1 Axes>"
      ]
     },
     "metadata": {
      "needs_background": "light"
     },
     "output_type": "display_data"
    }
   ],
   "source": [
    "\n",
    "import numpy as np\n",
    "import matplotlib.pyplot as plt\n",
    "\n",
    "epoch_list = list(range(1, len(hist.history['accuracy']) +1))\n",
    "plt.plot(epoch_list, hist.history['accuracy'], epoch_list, hist.history['val_accuracy'])\n",
    "plt.legend(('Training Accuracy', 'Validation accuracy'))\n",
    "plt.show()"
   ]
  },
  {
   "cell_type": "code",
   "execution_count": null,
   "metadata": {},
   "outputs": [],
   "source": []
  }
 ],
 "metadata": {
  "kernelspec": {
   "display_name": "Python 3",
   "language": "python",
   "name": "python3"
  },
  "language_info": {
   "codemirror_mode": {
    "name": "ipython",
    "version": 3
   },
   "file_extension": ".py",
   "mimetype": "text/x-python",
   "name": "python",
   "nbconvert_exporter": "python",
   "pygments_lexer": "ipython3",
   "version": "3.8.5"
  }
 },
 "nbformat": 4,
 "nbformat_minor": 4
}
